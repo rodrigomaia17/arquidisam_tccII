{
 "cells": [
  {
   "cell_type": "markdown",
   "metadata": {},
   "source": [
    "# Coletando os Dados"
   ]
  },
  {
   "cell_type": "code",
   "execution_count": 1,
   "metadata": {
    "collapsed": false
   },
   "outputs": [],
   "source": [
    "# encoding: utf-8\n",
    "from __future__ import unicode_literals\n",
    "import requests\n",
    "from lxml import html\n",
    "\n",
    "feam_url = \"http://www.feam.br/noticias/1/1327-boletim-qualidade-do-ar\"\n",
    "page_content = requests.get(feam_url).content\n",
    "html_tree = html.fromstring(page_content)\n",
    "html_tree.resolve_base_href()\n",
    "elements = html_tree.xpath('//a')\n"
   ]
  },
  {
   "cell_type": "code",
   "execution_count": 3,
   "metadata": {
    "collapsed": false
   },
   "outputs": [
    {
     "name": "stdout",
     "output_type": "stream",
     "text": [
      "http://www.feam.br/images/Boletim_-_Março.xlsx\n",
      "http://www.feam.br/images/Boletim_-_Novembro.xlsx\n",
      "http://www.feam.br/images/Boletim_-_Novembro.xlsx\n",
      "http://www.feam.br/images/Boletim_Março.xlsx\n",
      "http://www.feam.br/images/Boletim_-_Janeiro_10.xlsx\n"
     ]
    }
   ],
   "source": [
    "possible_matches = []\n",
    "for element in elements:\n",
    "    link = element.get('href')\n",
    "    if link is not None and \".xlsx\" in link:\n",
    "        print link\n",
    "        possible_matches.append(link)\n",
    "\n",
    "        \n",
    "        "
   ]
  },
  {
   "cell_type": "code",
   "execution_count": 4,
   "metadata": {
    "collapsed": false
   },
   "outputs": [],
   "source": [
    "from datetime import datetime\n",
    "months = ['', 'Janeiro', 'Fevereiro', 'Março', 'Abril', 'Maio', 'Junho', 'Julho', 'Agosto', 'Setembro', 'Outubro', 'Novembro', 'Dezembro']\n",
    "date = datetime.now()"
   ]
  },
  {
   "cell_type": "code",
   "execution_count": 5,
   "metadata": {
    "collapsed": false
   },
   "outputs": [
    {
     "data": {
      "text/plain": [
       "u'Mar\\xe7o'"
      ]
     },
     "execution_count": 5,
     "metadata": {},
     "output_type": "execute_result"
    }
   ],
   "source": [
    "months[date.month]"
   ]
  },
  {
   "cell_type": "code",
   "execution_count": 17,
   "metadata": {
    "collapsed": false
   },
   "outputs": [],
   "source": [
    "downloads = 0\n",
    "for possible_match in possible_matches:\n",
    "    if months[date.month] in possible_match:\n",
    "        file_name = 'Dados/Dados-' + str(date.day) + '-' + str(date.month) + '-' + str(date.year) + '-' + str(downloads) + '.xlsx'\n",
    "        result = requests.get(possible_match)\n",
    "        downloads = downloads + 1\n",
    "        with open(file_name, 'wb') as f:\n",
    "            f.write(result.content)\n",
    "        "
   ]
  },
  {
   "cell_type": "code",
   "execution_count": null,
   "metadata": {
    "collapsed": true
   },
   "outputs": [],
   "source": []
  }
 ],
 "metadata": {
  "anaconda-cloud": {},
  "kernelspec": {
   "display_name": "Python [conda env:DAND]",
   "language": "python",
   "name": "conda-env-DAND-py"
  },
  "language_info": {
   "codemirror_mode": {
    "name": "ipython",
    "version": 2
   },
   "file_extension": ".py",
   "mimetype": "text/x-python",
   "name": "python",
   "nbconvert_exporter": "python",
   "pygments_lexer": "ipython2",
   "version": "2.7.12"
  }
 },
 "nbformat": 4,
 "nbformat_minor": 2
}
